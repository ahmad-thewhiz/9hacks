{
 "cells": [
  {
   "cell_type": "code",
   "execution_count": 31,
   "metadata": {},
   "outputs": [],
   "source": [
    "from tts_module.tts_main import get_audio\n",
    "from model_module.openai_main import get_openai_response, get_openai_json_response, generate_report\n",
    "from whisperx_module.whisperx_main import get_transcription\n",
    "from model_module.ollama_main import get_response"
   ]
  },
  {
   "cell_type": "code",
   "execution_count": 48,
   "metadata": {},
   "outputs": [],
   "source": [
    "import os\n",
    "import json\n",
    "from datetime import datetime"
   ]
  },
  {
   "cell_type": "code",
   "execution_count": 33,
   "metadata": {},
   "outputs": [],
   "source": [
    "def load_json_file_from_path(dir_path, file_name):\n",
    "\n",
    "    file_path = os.path.join(dir_path, file_name)\n",
    "    \n",
    "    if os.path.exists(file_path):\n",
    "        try:\n",
    "            with open(file_path, 'r') as file:\n",
    "                data = json.load(file)\n",
    "            return data\n",
    "        except Exception as e:\n",
    "            print(f\"Error loading JSON file: {e}\")\n",
    "            return None\n",
    "    else:\n",
    "        print(\"File not found.\")\n",
    "        return None"
   ]
  },
  {
   "cell_type": "code",
   "execution_count": 34,
   "metadata": {},
   "outputs": [],
   "source": [
    "def append_to_messages(messages, role, content):\n",
    "    messages.append({\"role\": role, \"content\": content})\n",
    "    return messages"
   ]
  },
  {
   "cell_type": "code",
   "execution_count": 35,
   "metadata": {},
   "outputs": [],
   "source": [
    "def extract_user_messages(messages):\n",
    "    user_messages = [message for message in messages if message[\"role\"] == \"user\"]\n",
    "    return user_messages\n"
   ]
  },
  {
   "cell_type": "code",
   "execution_count": 36,
   "metadata": {},
   "outputs": [],
   "source": [
    "def save_to_json(data, file_path):\n",
    "    try:\n",
    "        with open(file_path, 'w') as file:\n",
    "            json.dump(data, file, indent=4)\n",
    "        return True\n",
    "    except Exception as e:\n",
    "        print(f\"Error while saving data to JSON file: {e}\")\n",
    "        return False"
   ]
  },
  {
   "cell_type": "code",
   "execution_count": 37,
   "metadata": {},
   "outputs": [],
   "source": [
    "def load_from_json(file_path):\n",
    "    try:\n",
    "        with open(file_path, 'r') as file:\n",
    "            data = json.load(file)\n",
    "        return data\n",
    "    except Exception as e:\n",
    "        print(f\"Error while loading data from JSON file: {e}\")\n",
    "        return None"
   ]
  },
  {
   "cell_type": "code",
   "execution_count": 40,
   "metadata": {},
   "outputs": [],
   "source": [
    "def create_text_file(file_path, content=\"\"):\n",
    "    try:\n",
    "        with open(file_path, 'w') as file:\n",
    "            file.write(content)\n",
    "        return True\n",
    "    except Exception as e:\n",
    "        print(f\"Error while creating text file: {e}\")\n",
    "        return False"
   ]
  },
  {
   "cell_type": "code",
   "execution_count": 47,
   "metadata": {},
   "outputs": [],
   "source": [
    "def get_today_date_and_day():\n",
    "    today = datetime.now()\n",
    "    today_date = today.strftime(\"%Y-%m-%d\")\n",
    "    day_name = today.strftime(\"%A\")\n",
    "    return today_date, day_name"
   ]
  },
  {
   "cell_type": "code",
   "execution_count": 53,
   "metadata": {},
   "outputs": [],
   "source": [
    "def main(data_dir: str):\n",
    "    input_data = load_json_file_from_path(data_dir, 'input_file.json')\n",
    "    attendees_response = load_json_file_from_path(data_dir, 'attendees_response.json')\n",
    "    output_data_dir = \"data/output.json\"\n",
    "\n",
    "\n",
    "    current_status = []\n",
    "    previous_tasks = input_data[\"previous_tasks\"]\n",
    "    next_tasks = input_data[\"next_tasks\"]\n",
    "    num_attendees = input_data[\"num_attendees\"]\n",
    "\n",
    "    sys_prompt = \"\"\"\n",
    "    You are an AI assistant programmed to organize and lead meetings with the employees of Next Tech Lab Inc. Your task is to conduct the meeting. You will be provided with the agenda and list of attendees for the meeting.\n",
    "\n",
    "    Firstly, you need to print the agenda of the meeting. Then, you will call the first person from the list of attendees to share their progress. As each attendee shares their progress, you will generate a json_object output with two fields: \"summary\", which contains the summarized response of only the latest attendee, and \"next_call\", which contains the message for the next attendee from the list of attendees to be called.\n",
    "    \"\"\"\n",
    "\n",
    "    details = f\"\"\"\n",
    "    Please refer to the agenda provided below and the list of attendees. Your task is to start by printing the agenda and then call the first attendee to share their response.\n",
    "\n",
    "    Agenda: {input_data[\"agenda\"]}\n",
    "\n",
    "    Attendees: {input_data[\"attendees\"]}\n",
    "\n",
    "    Please maintain professionalism as you are a professional AI assistant. The output format must be strictly maintained in json_object format with two fields \"summary\" which is the summary of the most recent status by the user and \"next_call\" which is the message for the attendess\n",
    "    \"\"\"\n",
    "\n",
    "    messages=[\n",
    "    {\"role\": \"system\", \"content\": f\"{sys_prompt}\"},\n",
    "    {\"role\": \"user\", \"content\": f\"{details}\"},\n",
    "    ]\n",
    "\n",
    "    output = get_openai_response(messages=messages)\n",
    "\n",
    "    messages = append_to_messages(messages, 'assistant', output)\n",
    "\n",
    "    save_to_json(messages, output_data_dir)\n",
    "\n",
    "    for i in range(num_attendees):\n",
    "        messages = load_from_json('/home/dgxuser16/NTL/mccarthy/ahmad/9hacks/9hacks/data/output.json')\n",
    "        messages = append_to_messages(messages, 'user', attendees_response[f\"att_{i}\"])\n",
    "        output = get_openai_response(messages=messages)\n",
    "        messages = append_to_messages(messages, 'assistant', output)\n",
    "        save_to_json(messages, output_data_dir)                                   \n",
    "\n",
    "    today_date, day_name = get_today_date_and_day()\n",
    "    Date = f\"\\n\\nDate: {today_date} ({day_name})\\n\\n\"\n",
    "\n",
    "    current_status = extract_user_messages(messages)\n",
    "    \n",
    "    report_path = \"data/report.txt\"\n",
    "    report = generate_report(previous_tasks=previous_tasks, current_status=current_status, next_tasks=next_tasks)\n",
    "    report += Date\n",
    "    create_text_file(file_path=report_path, content=report)"
   ]
  },
  {
   "cell_type": "code",
   "execution_count": 54,
   "metadata": {},
   "outputs": [],
   "source": [
    "main(\"data/\")"
   ]
  },
  {
   "cell_type": "code",
   "execution_count": null,
   "metadata": {},
   "outputs": [],
   "source": []
  }
 ],
 "metadata": {
  "kernelspec": {
   "display_name": "mom",
   "language": "python",
   "name": "python3"
  },
  "language_info": {
   "codemirror_mode": {
    "name": "ipython",
    "version": 3
   },
   "file_extension": ".py",
   "mimetype": "text/x-python",
   "name": "python",
   "nbconvert_exporter": "python",
   "pygments_lexer": "ipython3",
   "version": "3.11.3"
  }
 },
 "nbformat": 4,
 "nbformat_minor": 2
}
